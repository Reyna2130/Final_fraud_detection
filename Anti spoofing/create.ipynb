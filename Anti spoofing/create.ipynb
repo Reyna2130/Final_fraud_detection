{
 "cells": [
  {
   "cell_type": "code",
   "execution_count": 1,
   "id": "11d781eb-42a5-4279-aabb-4f2731b1c96e",
   "metadata": {},
   "outputs": [
    {
     "name": "stdin",
     "output_type": "stream",
     "text": [
      "Enter the name for the sub dataset folder:  Rakhi\n"
     ]
    }
   ],
   "source": [
    "import cv2\n",
    "import sys\n",
    "import numpy as np\n",
    "import os\n",
    "\n",
    "haar_file = 'haarcascade_frontalface_default.xml'\n",
    "\n",
    "# All the faces data will be present in this folder\n",
    "datasets = 'datasets'\n",
    "\n",
    "# Get user input for the sub dataset folder name\n",
    "sub_data = input(\"Enter the name for the sub dataset folder: \")\n",
    "\n",
    "path = os.path.join(datasets, sub_data)\n",
    "if not os.path.isdir(path):\n",
    "    os.makedirs(path)\n",
    "\n",
    "# Defining the size of images\n",
    "(width, height) = (130, 100)\n",
    "\n",
    "# '0' is used for my webcam, if you've any other camera attached, use '1' like this\n",
    "face_cascade = cv2.CascadeClassifier(haar_file)\n",
    "webcam = cv2.VideoCapture(0)\n",
    "\n",
    "# Check if the Haar cascade file was loaded successfully\n",
    "if face_cascade.empty():\n",
    "    raise IOError(f\"Failed to load Haar cascade from {haar_file}\")\n",
    "\n",
    "# The program loops until it has 30 images of the face\n",
    "count = 1\n",
    "while count <= 30:\n",
    "    ret, im = webcam.read()\n",
    "    if not ret:\n",
    "        print(\"Failed to capture image from webcam.\")\n",
    "        break\n",
    "\n",
    "    gray = cv2.cvtColor(im, cv2.COLOR_BGR2GRAY)\n",
    "    faces = face_cascade.detectMultiScale(gray, 1.3, 4)\n",
    "    for (x, y, w, h) in faces:\n",
    "        cv2.rectangle(im, (x, y), (x + w, y + h), (255, 0, 0), 2)\n",
    "        face = gray[y:y + h, x:x + w]\n",
    "        face_resize = cv2.resize(face, (width, height))\n",
    "        cv2.imwrite(f'{path}/{count}.png', face_resize)\n",
    "        count += 1\n",
    "        if count > 30:\n",
    "            break\n",
    "\n",
    "    cv2.imshow('OpenCV', im)\n",
    "    key = cv2.waitKey(10)\n",
    "    if key == 27:\n",
    "        break\n",
    "\n",
    "webcam.release()\n",
    "cv2.destroyAllWindows()\n"
   ]
  },
  {
   "cell_type": "code",
   "execution_count": null,
   "id": "e9190d55-2623-4914-9951-e529a5f07a03",
   "metadata": {},
   "outputs": [],
   "source": []
  }
 ],
 "metadata": {
  "kernelspec": {
   "display_name": "Python 3 (ipykernel)",
   "language": "python",
   "name": "python3"
  },
  "language_info": {
   "codemirror_mode": {
    "name": "ipython",
    "version": 3
   },
   "file_extension": ".py",
   "mimetype": "text/x-python",
   "name": "python",
   "nbconvert_exporter": "python",
   "pygments_lexer": "ipython3",
   "version": "3.11.7"
  }
 },
 "nbformat": 4,
 "nbformat_minor": 5
}
